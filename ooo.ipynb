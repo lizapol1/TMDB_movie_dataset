{
 "cells": [
  {
   "cell_type": "code",
   "execution_count": 1,
   "metadata": {},
   "outputs": [],
   "source": [
    "movie <- read.csv('movie.csv')"
   ]
  },
  {
   "cell_type": "code",
   "execution_count": 2,
   "metadata": {},
   "outputs": [
    {
     "data": {
      "text/html": [
       "<table>\n",
       "<caption>A data.frame: 6 × 7</caption>\n",
       "<thead>\n",
       "\t<tr><th scope=col>director_facebook_likes</th><th scope=col>actor_3_facebook_likes</th><th scope=col>actor_1_facebook_likes</th><th scope=col>cast_total_facebook_likes</th><th scope=col>actor_2_facebook_likes</th><th scope=col>movie_facebook_likes</th><th scope=col>imdb_score</th></tr>\n",
       "\t<tr><th scope=col>&lt;int&gt;</th><th scope=col>&lt;int&gt;</th><th scope=col>&lt;int&gt;</th><th scope=col>&lt;int&gt;</th><th scope=col>&lt;int&gt;</th><th scope=col>&lt;int&gt;</th><th scope=col>&lt;dbl&gt;</th></tr>\n",
       "</thead>\n",
       "<tbody>\n",
       "\t<tr><td>    0</td><td>  855</td><td> 1000</td><td>  4834</td><td>  936</td><td> 33000</td><td>7.9</td></tr>\n",
       "\t<tr><td>  563</td><td> 1000</td><td>40000</td><td> 48350</td><td> 5000</td><td>     0</td><td>7.1</td></tr>\n",
       "\t<tr><td>    0</td><td>  161</td><td>11000</td><td> 11700</td><td>  393</td><td> 85000</td><td>6.8</td></tr>\n",
       "\t<tr><td>22000</td><td>23000</td><td>27000</td><td>106759</td><td>23000</td><td>164000</td><td>8.5</td></tr>\n",
       "\t<tr><td>  475</td><td>  530</td><td>  640</td><td>  1873</td><td>  632</td><td> 24000</td><td>6.6</td></tr>\n",
       "\t<tr><td>    0</td><td> 4000</td><td>24000</td><td> 46055</td><td>11000</td><td>     0</td><td>6.2</td></tr>\n",
       "</tbody>\n",
       "</table>\n"
      ],
      "text/latex": [
       "A data.frame: 6 × 7\n",
       "\\begin{tabular}{r|lllllll}\n",
       " director\\_facebook\\_likes & actor\\_3\\_facebook\\_likes & actor\\_1\\_facebook\\_likes & cast\\_total\\_facebook\\_likes & actor\\_2\\_facebook\\_likes & movie\\_facebook\\_likes & imdb\\_score\\\\\n",
       " <int> & <int> & <int> & <int> & <int> & <int> & <dbl>\\\\\n",
       "\\hline\n",
       "\t     0 &   855 &  1000 &   4834 &   936 &  33000 & 7.9\\\\\n",
       "\t   563 &  1000 & 40000 &  48350 &  5000 &      0 & 7.1\\\\\n",
       "\t     0 &   161 & 11000 &  11700 &   393 &  85000 & 6.8\\\\\n",
       "\t 22000 & 23000 & 27000 & 106759 & 23000 & 164000 & 8.5\\\\\n",
       "\t   475 &   530 &   640 &   1873 &   632 &  24000 & 6.6\\\\\n",
       "\t     0 &  4000 & 24000 &  46055 & 11000 &      0 & 6.2\\\\\n",
       "\\end{tabular}\n"
      ],
      "text/markdown": [
       "\n",
       "A data.frame: 6 × 7\n",
       "\n",
       "| director_facebook_likes &lt;int&gt; | actor_3_facebook_likes &lt;int&gt; | actor_1_facebook_likes &lt;int&gt; | cast_total_facebook_likes &lt;int&gt; | actor_2_facebook_likes &lt;int&gt; | movie_facebook_likes &lt;int&gt; | imdb_score &lt;dbl&gt; |\n",
       "|---|---|---|---|---|---|---|\n",
       "|     0 |   855 |  1000 |   4834 |   936 |  33000 | 7.9 |\n",
       "|   563 |  1000 | 40000 |  48350 |  5000 |      0 | 7.1 |\n",
       "|     0 |   161 | 11000 |  11700 |   393 |  85000 | 6.8 |\n",
       "| 22000 | 23000 | 27000 | 106759 | 23000 | 164000 | 8.5 |\n",
       "|   475 |   530 |   640 |   1873 |   632 |  24000 | 6.6 |\n",
       "|     0 |  4000 | 24000 |  46055 | 11000 |      0 | 6.2 |\n",
       "\n"
      ],
      "text/plain": [
       "  director_facebook_likes actor_3_facebook_likes actor_1_facebook_likes\n",
       "1     0                     855                   1000                 \n",
       "2   563                    1000                  40000                 \n",
       "3     0                     161                  11000                 \n",
       "4 22000                   23000                  27000                 \n",
       "5   475                     530                    640                 \n",
       "6     0                    4000                  24000                 \n",
       "  cast_total_facebook_likes actor_2_facebook_likes movie_facebook_likes\n",
       "1   4834                      936                   33000              \n",
       "2  48350                     5000                       0              \n",
       "3  11700                      393                   85000              \n",
       "4 106759                    23000                  164000              \n",
       "5   1873                      632                   24000              \n",
       "6  46055                    11000                       0              \n",
       "  imdb_score\n",
       "1 7.9       \n",
       "2 7.1       \n",
       "3 6.8       \n",
       "4 8.5       \n",
       "5 6.6       \n",
       "6 6.2       "
      ]
     },
     "metadata": {},
     "output_type": "display_data"
    }
   ],
   "source": [
    "head(movie)"
   ]
  },
  {
   "cell_type": "code",
   "execution_count": null,
   "metadata": {},
   "outputs": [],
   "source": []
  }
 ],
 "metadata": {
  "kernelspec": {
   "display_name": "R",
   "language": "R",
   "name": "ir"
  },
  "language_info": {
   "codemirror_mode": "r",
   "file_extension": ".r",
   "mimetype": "text/x-r-source",
   "name": "R",
   "pygments_lexer": "r",
   "version": "3.4.4"
  }
 },
 "nbformat": 4,
 "nbformat_minor": 2
}
